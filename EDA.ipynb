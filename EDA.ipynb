{
 "cells": [
  {
   "cell_type": "code",
   "execution_count": null,
   "metadata": {},
   "outputs": [],
   "source": [
    "# Desarrollo del EDA"
   ]
  },
  {
   "cell_type": "code",
   "execution_count": 1,
   "metadata": {},
   "outputs": [],
   "source": [
    "# Cargamos las librerias que vamos a utilizar\n",
    "\n",
    "import pandas as pd\n",
    "import numpy as np\n",
    "import matplotlib.pyplot as plt\n",
    "import seaborn as sns\n",
    "import datetime\n",
    "import ast"
   ]
  },
  {
   "cell_type": "code",
   "execution_count": 2,
   "metadata": {},
   "outputs": [],
   "source": [
    "# # Ingestamos el dataset limpio\n",
    "\n",
    "d1 = pd.read_csv('d_limpio.csv')"
   ]
  },
  {
   "cell_type": "code",
   "execution_count": 3,
   "metadata": {},
   "outputs": [
    {
     "data": {
      "text/html": [
       "<div>\n",
       "<style scoped>\n",
       "    .dataframe tbody tr th:only-of-type {\n",
       "        vertical-align: middle;\n",
       "    }\n",
       "\n",
       "    .dataframe tbody tr th {\n",
       "        vertical-align: top;\n",
       "    }\n",
       "\n",
       "    .dataframe thead th {\n",
       "        text-align: right;\n",
       "    }\n",
       "</style>\n",
       "<table border=\"1\" class=\"dataframe\">\n",
       "  <thead>\n",
       "    <tr style=\"text-align: right;\">\n",
       "      <th></th>\n",
       "      <th>belongs_to_collection</th>\n",
       "      <th>budget</th>\n",
       "      <th>genres</th>\n",
       "      <th>id</th>\n",
       "      <th>original_language</th>\n",
       "      <th>overview</th>\n",
       "      <th>popularity</th>\n",
       "      <th>production_companies</th>\n",
       "      <th>production_countries</th>\n",
       "      <th>release_date</th>\n",
       "      <th>revenue</th>\n",
       "      <th>runtime</th>\n",
       "      <th>spoken_languages</th>\n",
       "      <th>status</th>\n",
       "      <th>tagline</th>\n",
       "      <th>title</th>\n",
       "      <th>vote_average</th>\n",
       "      <th>release_year</th>\n",
       "      <th>return</th>\n",
       "    </tr>\n",
       "  </thead>\n",
       "  <tbody>\n",
       "    <tr>\n",
       "      <th>0</th>\n",
       "      <td>Toy Story Collection</td>\n",
       "      <td>30000000.0</td>\n",
       "      <td>['Animation', 'Comedy', 'Family']</td>\n",
       "      <td>862</td>\n",
       "      <td>en</td>\n",
       "      <td>Led by Woody, Andy's toys live happily in his ...</td>\n",
       "      <td>21.946943</td>\n",
       "      <td>['Pixar Animation Studios']</td>\n",
       "      <td>['United States of America']</td>\n",
       "      <td>1995-10-30</td>\n",
       "      <td>373554033.0</td>\n",
       "      <td>81.0</td>\n",
       "      <td>['English']</td>\n",
       "      <td>Released</td>\n",
       "      <td>NaN</td>\n",
       "      <td>Toy Story</td>\n",
       "      <td>7.7</td>\n",
       "      <td>1995</td>\n",
       "      <td>12.451801</td>\n",
       "    </tr>\n",
       "    <tr>\n",
       "      <th>1</th>\n",
       "      <td>NaN</td>\n",
       "      <td>65000000.0</td>\n",
       "      <td>['Adventure', 'Fantasy', 'Family']</td>\n",
       "      <td>8844</td>\n",
       "      <td>en</td>\n",
       "      <td>When siblings Judy and Peter discover an encha...</td>\n",
       "      <td>17.015539</td>\n",
       "      <td>['TriStar Pictures', 'Teitler Film', 'Intersco...</td>\n",
       "      <td>['United States of America']</td>\n",
       "      <td>1995-12-15</td>\n",
       "      <td>262797249.0</td>\n",
       "      <td>104.0</td>\n",
       "      <td>['English', 'Français']</td>\n",
       "      <td>Released</td>\n",
       "      <td>Roll the dice and unleash the excitement!</td>\n",
       "      <td>Jumanji</td>\n",
       "      <td>6.9</td>\n",
       "      <td>1995</td>\n",
       "      <td>4.043035</td>\n",
       "    </tr>\n",
       "    <tr>\n",
       "      <th>2</th>\n",
       "      <td>Grumpy Old Men Collection</td>\n",
       "      <td>0.0</td>\n",
       "      <td>['Romance', 'Comedy']</td>\n",
       "      <td>15602</td>\n",
       "      <td>en</td>\n",
       "      <td>A family wedding reignites the ancient feud be...</td>\n",
       "      <td>11.712900</td>\n",
       "      <td>['Warner Bros.', 'Lancaster Gate']</td>\n",
       "      <td>['United States of America']</td>\n",
       "      <td>1995-12-22</td>\n",
       "      <td>0.0</td>\n",
       "      <td>101.0</td>\n",
       "      <td>['English']</td>\n",
       "      <td>Released</td>\n",
       "      <td>Still Yelling. Still Fighting. Still Ready for...</td>\n",
       "      <td>Grumpier Old Men</td>\n",
       "      <td>6.5</td>\n",
       "      <td>1995</td>\n",
       "      <td>0.000000</td>\n",
       "    </tr>\n",
       "    <tr>\n",
       "      <th>3</th>\n",
       "      <td>NaN</td>\n",
       "      <td>16000000.0</td>\n",
       "      <td>['Comedy', 'Drama', 'Romance']</td>\n",
       "      <td>31357</td>\n",
       "      <td>en</td>\n",
       "      <td>Cheated on, mistreated and stepped on, the wom...</td>\n",
       "      <td>3.859495</td>\n",
       "      <td>['Twentieth Century Fox Film Corporation']</td>\n",
       "      <td>['United States of America']</td>\n",
       "      <td>1995-12-22</td>\n",
       "      <td>81452156.0</td>\n",
       "      <td>127.0</td>\n",
       "      <td>['English']</td>\n",
       "      <td>Released</td>\n",
       "      <td>Friends are the people who let you be yourself...</td>\n",
       "      <td>Waiting to Exhale</td>\n",
       "      <td>6.1</td>\n",
       "      <td>1995</td>\n",
       "      <td>5.090760</td>\n",
       "    </tr>\n",
       "  </tbody>\n",
       "</table>\n",
       "</div>"
      ],
      "text/plain": [
       "       belongs_to_collection      budget                              genres  \\\n",
       "0       Toy Story Collection  30000000.0   ['Animation', 'Comedy', 'Family']   \n",
       "1                        NaN  65000000.0  ['Adventure', 'Fantasy', 'Family']   \n",
       "2  Grumpy Old Men Collection         0.0               ['Romance', 'Comedy']   \n",
       "3                        NaN  16000000.0      ['Comedy', 'Drama', 'Romance']   \n",
       "\n",
       "      id original_language                                           overview  \\\n",
       "0    862                en  Led by Woody, Andy's toys live happily in his ...   \n",
       "1   8844                en  When siblings Judy and Peter discover an encha...   \n",
       "2  15602                en  A family wedding reignites the ancient feud be...   \n",
       "3  31357                en  Cheated on, mistreated and stepped on, the wom...   \n",
       "\n",
       "   popularity                               production_companies  \\\n",
       "0   21.946943                        ['Pixar Animation Studios']   \n",
       "1   17.015539  ['TriStar Pictures', 'Teitler Film', 'Intersco...   \n",
       "2   11.712900                 ['Warner Bros.', 'Lancaster Gate']   \n",
       "3    3.859495         ['Twentieth Century Fox Film Corporation']   \n",
       "\n",
       "           production_countries release_date      revenue  runtime  \\\n",
       "0  ['United States of America']   1995-10-30  373554033.0     81.0   \n",
       "1  ['United States of America']   1995-12-15  262797249.0    104.0   \n",
       "2  ['United States of America']   1995-12-22          0.0    101.0   \n",
       "3  ['United States of America']   1995-12-22   81452156.0    127.0   \n",
       "\n",
       "          spoken_languages    status  \\\n",
       "0              ['English']  Released   \n",
       "1  ['English', 'Français']  Released   \n",
       "2              ['English']  Released   \n",
       "3              ['English']  Released   \n",
       "\n",
       "                                             tagline              title  \\\n",
       "0                                                NaN          Toy Story   \n",
       "1          Roll the dice and unleash the excitement!            Jumanji   \n",
       "2  Still Yelling. Still Fighting. Still Ready for...   Grumpier Old Men   \n",
       "3  Friends are the people who let you be yourself...  Waiting to Exhale   \n",
       "\n",
       "   vote_average  release_year     return  \n",
       "0           7.7          1995  12.451801  \n",
       "1           6.9          1995   4.043035  \n",
       "2           6.5          1995   0.000000  \n",
       "3           6.1          1995   5.090760  "
      ]
     },
     "execution_count": 3,
     "metadata": {},
     "output_type": "execute_result"
    }
   ],
   "source": [
    "d1.head(4)"
   ]
  },
  {
   "cell_type": "code",
   "execution_count": 4,
   "metadata": {},
   "outputs": [
    {
     "data": {
      "text/plain": [
       "<bound method NDFrame.describe of                 belongs_to_collection      budget  \\\n",
       "0                Toy Story Collection  30000000.0   \n",
       "1                                 NaN  65000000.0   \n",
       "2           Grumpy Old Men Collection         0.0   \n",
       "3                                 NaN  16000000.0   \n",
       "4      Father of the Bride Collection         0.0   \n",
       "...                               ...         ...   \n",
       "45371                             NaN         0.0   \n",
       "45372                             NaN         0.0   \n",
       "45373                             NaN         0.0   \n",
       "45374                             NaN         0.0   \n",
       "45375                             NaN         0.0   \n",
       "\n",
       "                                   genres      id original_language  \\\n",
       "0       ['Animation', 'Comedy', 'Family']     862                en   \n",
       "1      ['Adventure', 'Fantasy', 'Family']    8844                en   \n",
       "2                   ['Romance', 'Comedy']   15602                en   \n",
       "3          ['Comedy', 'Drama', 'Romance']   31357                en   \n",
       "4                              ['Comedy']   11862                en   \n",
       "...                                   ...     ...               ...   \n",
       "45371      ['Drama', 'Action', 'Romance']   30840                en   \n",
       "45372                           ['Drama']  111109                tl   \n",
       "45373     ['Action', 'Drama', 'Thriller']   67758                en   \n",
       "45374                                 NaN  227506                en   \n",
       "45375                                 NaN  461257                en   \n",
       "\n",
       "                                                overview  popularity  \\\n",
       "0      Led by Woody, Andy's toys live happily in his ...   21.946943   \n",
       "1      When siblings Judy and Peter discover an encha...   17.015539   \n",
       "2      A family wedding reignites the ancient feud be...   11.712900   \n",
       "3      Cheated on, mistreated and stepped on, the wom...    3.859495   \n",
       "4      Just when George Banks has recovered from his ...    8.387519   \n",
       "...                                                  ...         ...   \n",
       "45371  Yet another version of the classic epic, with ...    5.683753   \n",
       "45372  An artist struggles to finish his work while a...    0.178241   \n",
       "45373  When one of her hits goes wrong, a professiona...    0.903007   \n",
       "45374  In a small town live two brothers, one a minis...    0.003503   \n",
       "45375  50 years after decriminalisation of homosexual...    0.163015   \n",
       "\n",
       "                                    production_companies  \\\n",
       "0                            ['Pixar Animation Studios']   \n",
       "1      ['TriStar Pictures', 'Teitler Film', 'Intersco...   \n",
       "2                     ['Warner Bros.', 'Lancaster Gate']   \n",
       "3             ['Twentieth Century Fox Film Corporation']   \n",
       "4       ['Sandollar Productions', 'Touchstone Pictures']   \n",
       "...                                                  ...   \n",
       "45371  ['Westdeutscher Rundfunk (WDR)', 'Working Titl...   \n",
       "45372                                    ['Sine Olivia']   \n",
       "45373                        ['American World Pictures']   \n",
       "45374                                      ['Yermoliev']   \n",
       "45375                                                NaN   \n",
       "\n",
       "                                    production_countries release_date  \\\n",
       "0                           ['United States of America']   1995-10-30   \n",
       "1                           ['United States of America']   1995-12-15   \n",
       "2                           ['United States of America']   1995-12-22   \n",
       "3                           ['United States of America']   1995-12-22   \n",
       "4                           ['United States of America']   1995-02-10   \n",
       "...                                                  ...          ...   \n",
       "45371  ['Canada', 'Germany', 'United Kingdom', 'Unite...   1991-05-13   \n",
       "45372                                    ['Philippines']   2011-11-17   \n",
       "45373                       ['United States of America']   2003-08-01   \n",
       "45374                                         ['Russia']   1917-10-21   \n",
       "45375                                 ['United Kingdom']   2017-06-09   \n",
       "\n",
       "           revenue  runtime         spoken_languages    status  \\\n",
       "0      373554033.0     81.0              ['English']  Released   \n",
       "1      262797249.0    104.0  ['English', 'Français']  Released   \n",
       "2              0.0    101.0              ['English']  Released   \n",
       "3       81452156.0    127.0              ['English']  Released   \n",
       "4       76578911.0    106.0              ['English']  Released   \n",
       "...            ...      ...                      ...       ...   \n",
       "45371          0.0    104.0              ['English']  Released   \n",
       "45372          0.0    360.0                     ['']  Released   \n",
       "45373          0.0     90.0              ['English']  Released   \n",
       "45374          0.0     87.0                      NaN  Released   \n",
       "45375          0.0     75.0              ['English']  Released   \n",
       "\n",
       "                                                 tagline  \\\n",
       "0                                                    NaN   \n",
       "1              Roll the dice and unleash the excitement!   \n",
       "2      Still Yelling. Still Fighting. Still Ready for...   \n",
       "3      Friends are the people who let you be yourself...   \n",
       "4      Just When His World Is Back To Normal... He's ...   \n",
       "...                                                  ...   \n",
       "45371                                                NaN   \n",
       "45372                                                NaN   \n",
       "45373                             A deadly game of wits.   \n",
       "45374                                                NaN   \n",
       "45375                                                NaN   \n",
       "\n",
       "                             title  vote_average  release_year     return  \n",
       "0                        Toy Story           7.7          1995  12.451801  \n",
       "1                          Jumanji           6.9          1995   4.043035  \n",
       "2                 Grumpier Old Men           6.5          1995   0.000000  \n",
       "3                Waiting to Exhale           6.1          1995   5.090760  \n",
       "4      Father of the Bride Part II           5.7          1995   0.000000  \n",
       "...                            ...           ...           ...        ...  \n",
       "45371                   Robin Hood           5.7          1991   0.000000  \n",
       "45372          Century of Birthing           9.0          2011   0.000000  \n",
       "45373                     Betrayal           3.8          2003   0.000000  \n",
       "45374             Satan Triumphant           0.0          1917   0.000000  \n",
       "45375                     Queerama           0.0          2017   0.000000  \n",
       "\n",
       "[45376 rows x 19 columns]>"
      ]
     },
     "execution_count": 4,
     "metadata": {},
     "output_type": "execute_result"
    }
   ],
   "source": [
    "d1.describe"
   ]
  },
  {
   "cell_type": "code",
   "execution_count": 3,
   "metadata": {},
   "outputs": [
    {
     "name": "stdout",
     "output_type": "stream",
     "text": [
      "<class 'pandas.core.frame.DataFrame'>\n",
      "RangeIndex: 45376 entries, 0 to 45375\n",
      "Data columns (total 19 columns):\n",
      " #   Column                 Non-Null Count  Dtype  \n",
      "---  ------                 --------------  -----  \n",
      " 0   belongs_to_collection  4488 non-null   object \n",
      " 1   budget                 45376 non-null  float64\n",
      " 2   genres                 42992 non-null  object \n",
      " 3   id                     45376 non-null  int64  \n",
      " 4   original_language      45365 non-null  object \n",
      " 5   overview               44435 non-null  object \n",
      " 6   popularity             45376 non-null  float64\n",
      " 7   production_companies   33580 non-null  object \n",
      " 8   production_countries   39165 non-null  object \n",
      " 9   release_date           45376 non-null  object \n",
      " 10  revenue                45376 non-null  float64\n",
      " 11  runtime                45130 non-null  float64\n",
      " 12  spoken_languages       41608 non-null  object \n",
      " 13  status                 45296 non-null  object \n",
      " 14  tagline                20398 non-null  object \n",
      " 15  title                  45376 non-null  object \n",
      " 16  vote_average           45376 non-null  float64\n",
      " 17  release_year           45376 non-null  int64  \n",
      " 18  return                 45376 non-null  float64\n",
      "dtypes: float64(6), int64(2), object(11)\n",
      "memory usage: 6.6+ MB\n"
     ]
    }
   ],
   "source": [
    "d1.info()"
   ]
  },
  {
   "cell_type": "code",
   "execution_count": 4,
   "metadata": {},
   "outputs": [
    {
     "data": {
      "text/plain": [
       "<AxesSubplot: xlabel='runtime', ylabel='budget'>"
      ]
     },
     "execution_count": 4,
     "metadata": {},
     "output_type": "execute_result"
    },
    {
     "data": {
      "image/png": "[encoded data removed]",
      "text/plain": [
       "<Figure size 640x480 with 1 Axes>"
      ]
     },
     "metadata": {},
     "output_type": "display_data"
    }
   ],
   "source": [
    "# Grafico de dispersion: Presupuesto versus Tiempo de entrega\n",
    "\n",
    "d1.plot.scatter(y = 'budget', x = 'runtime')"
   ]
  },
  {
   "cell_type": "code",
   "execution_count": 5,
   "metadata": {},
   "outputs": [
    {
     "data": {
      "text/plain": [
       "['United States of America']                        17846\n",
       "['United Kingdom']                                   2235\n",
       "['France']                                           1653\n",
       "['Japan']                                            1356\n",
       "['Italy']                                            1029\n",
       "                                                    ...  \n",
       "['Romania', 'United Kingdom', 'Canada']                 1\n",
       "['Finland', 'Germany', 'Netherlands']                   1\n",
       "['France', 'Denmark', 'Spain', 'Sweden']                1\n",
       "['France', 'United States of America', 'Canada']        1\n",
       "['Egypt', 'Italy', 'United States of America']          1\n",
       "Name: production_countries, Length: 2388, dtype: int64"
      ]
     },
     "execution_count": 5,
     "metadata": {},
     "output_type": "execute_result"
    }
   ],
   "source": [
    "# Produccion de peliculas por paises\n",
    "\n",
    "d1.production_countries.value_counts()"
   ]
  },
  {
   "cell_type": "code",
   "execution_count": 6,
   "metadata": {},
   "outputs": [
    {
     "data": {
      "text/plain": [
       "['Drama']                                                                      4998\n",
       "['Comedy']                                                                     3621\n",
       "['Documentary']                                                                2713\n",
       "['Drama', 'Romance']                                                           1301\n",
       "['Comedy', 'Drama']                                                            1135\n",
       "                                                                               ... \n",
       "['Adventure', 'Action', 'Drama', 'Science Fiction', 'Thriller']                   1\n",
       "['Family', 'Drama', 'Fantasy']                                                    1\n",
       "['Action', 'Adventure', 'Romance', 'Thriller']                                    1\n",
       "['Science Fiction', 'Adventure', 'Animation', 'Action', 'Family', 'Comedy']       1\n",
       "['Family', 'Animation', 'Romance', 'Comedy']                                      1\n",
       "Name: genres, Length: 4064, dtype: int64"
      ]
     },
     "execution_count": 6,
     "metadata": {},
     "output_type": "execute_result"
    }
   ],
   "source": [
    "# Produccion de peliculas por generos \n",
    "\n",
    "d1.genres.value_counts()"
   ]
  },
  {
   "cell_type": "code",
   "execution_count": 8,
   "metadata": {},
   "outputs": [
    {
     "data": {
      "text/plain": [
       "2014    1974\n",
       "2015    1905\n",
       "2013    1889\n",
       "2012    1722\n",
       "2011    1667\n",
       "        ... \n",
       "2020       1\n",
       "1887       1\n",
       "1878       1\n",
       "1874       1\n",
       "1883       1\n",
       "Name: release_year, Length: 135, dtype: int64"
      ]
     },
     "execution_count": 8,
     "metadata": {},
     "output_type": "execute_result"
    }
   ],
   "source": [
    "# Lanzamiento de peliculas por años\n",
    "\n",
    "d1.release_year.value_counts()"
   ]
  },
  {
   "cell_type": "code",
   "execution_count": 9,
   "metadata": {},
   "outputs": [
    {
     "data": {
      "text/plain": [
       "<AxesSubplot: ylabel='Frequency'>"
      ]
     },
     "execution_count": 9,
     "metadata": {},
     "output_type": "execute_result"
    },
    {
     "data": {
      "image/png": "[encoded data removed]",
      "text/plain": [
       "<Figure size 640x480 with 1 Axes>"
      ]
     },
     "metadata": {},
     "output_type": "display_data"
    }
   ],
   "source": [
    "# Grafico de distribucion: Frecuencia de lanzamiento de peliculas por año\n",
    "\n",
    "d1.release_year.plot.hist()"
   ]
  },
  {
   "cell_type": "code",
   "execution_count": 10,
   "metadata": {},
   "outputs": [
    {
     "data": {
      "text/plain": [
       "<AxesSubplot: >"
      ]
     },
     "execution_count": 10,
     "metadata": {},
     "output_type": "execute_result"
    },
    {
     "data": {
      "image/png": "[encoded data removed]",
      "text/plain": [
       "<Figure size 640x480 with 1 Axes>"
      ]
     },
     "metadata": {},
     "output_type": "display_data"
    }
   ],
   "source": [
    "# Grafico tipo caja de año de lanzamiento de peliculas\n",
    "\n",
    "d1.release_year.plot.box()"
   ]
  }
 ],
 "metadata": {
  "kernelspec": {
   "display_name": "Python 3",
   "language": "python",
   "name": "python3"
  },
  "language_info": {
   "codemirror_mode": {
    "name": "ipython",
    "version": 3
   },
   "file_extension": ".py",
   "mimetype": "text/x-python",
   "name": "python",
   "nbconvert_exporter": "python",
   "pygments_lexer": "ipython3",
   "version": "3.10.8"
  },
  "orig_nbformat": 4
 },
 "nbformat": 4,
 "nbformat_minor": 2
}
