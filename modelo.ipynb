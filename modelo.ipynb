{
 "cells": [
  {
   "cell_type": "code",
   "execution_count": null,
   "metadata": {},
   "outputs": [],
   "source": [
    "# APRENDISAJE SUPERVISADO\n",
    "# SE APLICARA EL ALGORITMO PARA PROBLEMAS DE CLASIFICACION: SUPPORT VECTOR MACHINES"
   ]
  },
  {
   "cell_type": "code",
   "execution_count": 3,
   "metadata": {},
   "outputs": [],
   "source": [
    "#Cargamos las librerias que vamos a utilizar\n",
    "\n",
    "import pandas as pd\n",
    "import numpy as np\n",
    "import matplotlib.pyplot as plt\n",
    "import seaborn as sns\n",
    "import datetime\n",
    "import ast\n"
   ]
  },
  {
   "cell_type": "code",
   "execution_count": 4,
   "metadata": {},
   "outputs": [
    {
     "name": "stderr",
     "output_type": "stream",
     "text": [
      "C:\\Users\\hp\\AppData\\Local\\Temp\\ipykernel_22140\\125563529.py:3: DtypeWarning: Columns (10) have mixed types. Specify dtype option on import or set low_memory=False.\n",
      "  d = pd.read_csv('movies_dataset.csv')\n"
     ]
    }
   ],
   "source": [
    "# Ingestamos el dataset\n",
    "\n",
    "d = pd.read_csv('movies_dataset.csv')"
   ]
  },
  {
   "cell_type": "code",
   "execution_count": 5,
   "metadata": {},
   "outputs": [],
   "source": [
    "# 1. Algunos campos estan anidados deberan ser desanidados para unirlos al dataset\n",
    "# Para las listas\n",
    "\n",
    "def fetch_name(obj):\n",
    "    if isinstance(obj,str) and '{' in obj:\n",
    "        s = [] \n",
    "        for i in ast.literal_eval(obj):\n",
    "            s.append(i['name']);\n",
    "        return s"
   ]
  },
  {
   "cell_type": "code",
   "execution_count": 6,
   "metadata": {},
   "outputs": [],
   "source": [
    "# Para los diccionarios\n",
    "\n",
    "def fetch_name1(obj):\n",
    "    if isinstance(obj,str) and '{' in obj:\n",
    "        dic = ast.literal_eval(obj)\n",
    "        return dic['name']"
   ]
  },
  {
   "cell_type": "code",
   "execution_count": 7,
   "metadata": {},
   "outputs": [],
   "source": [
    "d['genres'] = d['genres'].apply(fetch_name)\n",
    "d['belongs_to_collection'] = d['belongs_to_collection'].apply(fetch_name1)\n",
    "d['production_companies'] = d['production_companies'].apply(fetch_name)\n",
    "d['production_countries'] = d['production_countries'].apply(fetch_name)\n",
    "d['spoken_languages'] = d['spoken_languages'].apply(fetch_name)"
   ]
  },
  {
   "cell_type": "code",
   "execution_count": 8,
   "metadata": {},
   "outputs": [],
   "source": [
    "# 2. Borrar un conjunto de columnas que no voy a utilizar\n",
    "\n",
    "columnas_descartables = ['video','imdb_id','adult','original_title','vote_count','poster_path','homepage']\n",
    "d = d.drop(columns=columnas_descartables)"
   ]
  },
  {
   "cell_type": "code",
   "execution_count": 9,
   "metadata": {},
   "outputs": [],
   "source": [
    "# 3. Los valores nulos del campo revenue y budget se rellena con ceros\n",
    "# Para el campo revenue\n",
    "\n",
    "d['revenue'] = d['revenue'].fillna(0)"
   ]
  },
  {
   "cell_type": "code",
   "execution_count": 10,
   "metadata": {},
   "outputs": [],
   "source": [
    "# Para el campo budget \n",
    "\n",
    "d['budget'] = d['budget'].fillna(0)"
   ]
  },
  {
   "cell_type": "code",
   "execution_count": 11,
   "metadata": {},
   "outputs": [],
   "source": [
    "# 4. Las fechas deberan tener el formato AAA-mm-dd, ademas se crea la columna release_year\n",
    "\n",
    "# Borrar los valores nulos del campo release_date\n",
    "\n",
    "d = d.dropna(subset=['release_date'])"
   ]
  },
  {
   "cell_type": "code",
   "execution_count": 12,
   "metadata": {},
   "outputs": [],
   "source": [
    "# Transformando a datatime\n",
    "\n",
    "d['release_date'] = pd.to_datetime(d['release_date'],format='%Y-%m-%d',errors='coerce')"
   ]
  },
  {
   "cell_type": "code",
   "execution_count": 13,
   "metadata": {},
   "outputs": [
    {
     "data": {
      "text/plain": [
       "3"
      ]
     },
     "execution_count": 13,
     "metadata": {},
     "output_type": "execute_result"
    }
   ],
   "source": [
    "# Comprobando si tiene valores nulos\n",
    "\n",
    "d['release_date'].isna().sum()"
   ]
  },
  {
   "cell_type": "code",
   "execution_count": 14,
   "metadata": {},
   "outputs": [],
   "source": [
    "# Borrando los valores nulos\n",
    "\n",
    "d = d.dropna(subset=['release_date'])"
   ]
  },
  {
   "cell_type": "code",
   "execution_count": 15,
   "metadata": {},
   "outputs": [
    {
     "data": {
      "text/plain": [
       "0"
      ]
     },
     "execution_count": 15,
     "metadata": {},
     "output_type": "execute_result"
    }
   ],
   "source": [
    "# Comprobando si hay valores nulo\n",
    "\n",
    "d['release_date'].isna().sum()"
   ]
  },
  {
   "cell_type": "code",
   "execution_count": 16,
   "metadata": {},
   "outputs": [],
   "source": [
    "# Se crea la columna release_year\n",
    "\n",
    "d['release_year'] = d['release_date'].dt.year"
   ]
  },
  {
   "cell_type": "code",
   "execution_count": 17,
   "metadata": {},
   "outputs": [],
   "source": [
    "# 5. Crear la columna return(retorno de inversion) dividiendo revenue/budget, cuando no hay datos disponibles \n",
    "# para calcularlos, debera tomar el valor 0\n",
    "\n",
    "# El campo budget pasar de datos type object a float\n",
    "\n",
    "d['budget'] = pd.to_numeric(d['budget'], downcast='float', errors='coerce')"
   ]
  },
  {
   "cell_type": "code",
   "execution_count": 18,
   "metadata": {},
   "outputs": [],
   "source": [
    "# Dividiendo los campos revenue/budget\n",
    "\n",
    "d['return'] = d['revenue'].divide(d['budget']).fillna(0)"
   ]
  },
  {
   "cell_type": "code",
   "execution_count": 19,
   "metadata": {},
   "outputs": [],
   "source": [
    "# Cambiar los valores inf por NAN\n",
    "\n",
    "d['return'].replace([np.inf,-np.inf], np.nan, inplace=True)"
   ]
  },
  {
   "cell_type": "code",
   "execution_count": 20,
   "metadata": {},
   "outputs": [],
   "source": [
    "# Cambiando los NAN por cero\n",
    "\n",
    "d['return'].fillna(0, inplace = True)"
   ]
  },
  {
   "cell_type": "code",
   "execution_count": 21,
   "metadata": {},
   "outputs": [
    {
     "data": {
      "text/html": [
       "<div>\n",
       "<style scoped>\n",
       "    .dataframe tbody tr th:only-of-type {\n",
       "        vertical-align: middle;\n",
       "    }\n",
       "\n",
       "    .dataframe tbody tr th {\n",
       "        vertical-align: top;\n",
       "    }\n",
       "\n",
       "    .dataframe thead th {\n",
       "        text-align: right;\n",
       "    }\n",
       "</style>\n",
       "<table border=\"1\" class=\"dataframe\">\n",
       "  <thead>\n",
       "    <tr style=\"text-align: right;\">\n",
       "      <th></th>\n",
       "      <th>belongs_to_collection</th>\n",
       "      <th>budget</th>\n",
       "      <th>genres</th>\n",
       "      <th>id</th>\n",
       "      <th>original_language</th>\n",
       "      <th>overview</th>\n",
       "      <th>popularity</th>\n",
       "      <th>production_companies</th>\n",
       "      <th>production_countries</th>\n",
       "      <th>release_date</th>\n",
       "      <th>revenue</th>\n",
       "      <th>runtime</th>\n",
       "      <th>spoken_languages</th>\n",
       "      <th>status</th>\n",
       "      <th>tagline</th>\n",
       "      <th>title</th>\n",
       "      <th>vote_average</th>\n",
       "      <th>release_year</th>\n",
       "      <th>return</th>\n",
       "    </tr>\n",
       "  </thead>\n",
       "  <tbody>\n",
       "    <tr>\n",
       "      <th>0</th>\n",
       "      <td>Toy Story Collection</td>\n",
       "      <td>30000000.0</td>\n",
       "      <td>[Animation, Comedy, Family]</td>\n",
       "      <td>862</td>\n",
       "      <td>en</td>\n",
       "      <td>Led by Woody, Andy's toys live happily in his ...</td>\n",
       "      <td>21.946943</td>\n",
       "      <td>[Pixar Animation Studios]</td>\n",
       "      <td>[United States of America]</td>\n",
       "      <td>1995-10-30</td>\n",
       "      <td>373554033.0</td>\n",
       "      <td>81.0</td>\n",
       "      <td>[English]</td>\n",
       "      <td>Released</td>\n",
       "      <td>NaN</td>\n",
       "      <td>Toy Story</td>\n",
       "      <td>7.7</td>\n",
       "      <td>1995</td>\n",
       "      <td>12.451801</td>\n",
       "    </tr>\n",
       "    <tr>\n",
       "      <th>1</th>\n",
       "      <td>None</td>\n",
       "      <td>65000000.0</td>\n",
       "      <td>[Adventure, Fantasy, Family]</td>\n",
       "      <td>8844</td>\n",
       "      <td>en</td>\n",
       "      <td>When siblings Judy and Peter discover an encha...</td>\n",
       "      <td>17.015539</td>\n",
       "      <td>[TriStar Pictures, Teitler Film, Interscope Co...</td>\n",
       "      <td>[United States of America]</td>\n",
       "      <td>1995-12-15</td>\n",
       "      <td>262797249.0</td>\n",
       "      <td>104.0</td>\n",
       "      <td>[English, Français]</td>\n",
       "      <td>Released</td>\n",
       "      <td>Roll the dice and unleash the excitement!</td>\n",
       "      <td>Jumanji</td>\n",
       "      <td>6.9</td>\n",
       "      <td>1995</td>\n",
       "      <td>4.043035</td>\n",
       "    </tr>\n",
       "    <tr>\n",
       "      <th>2</th>\n",
       "      <td>Grumpy Old Men Collection</td>\n",
       "      <td>0.0</td>\n",
       "      <td>[Romance, Comedy]</td>\n",
       "      <td>15602</td>\n",
       "      <td>en</td>\n",
       "      <td>A family wedding reignites the ancient feud be...</td>\n",
       "      <td>11.7129</td>\n",
       "      <td>[Warner Bros., Lancaster Gate]</td>\n",
       "      <td>[United States of America]</td>\n",
       "      <td>1995-12-22</td>\n",
       "      <td>0.0</td>\n",
       "      <td>101.0</td>\n",
       "      <td>[English]</td>\n",
       "      <td>Released</td>\n",
       "      <td>Still Yelling. Still Fighting. Still Ready for...</td>\n",
       "      <td>Grumpier Old Men</td>\n",
       "      <td>6.5</td>\n",
       "      <td>1995</td>\n",
       "      <td>0.000000</td>\n",
       "    </tr>\n",
       "  </tbody>\n",
       "</table>\n",
       "</div>"
      ],
      "text/plain": [
       "       belongs_to_collection      budget                        genres     id  \\\n",
       "0       Toy Story Collection  30000000.0   [Animation, Comedy, Family]    862   \n",
       "1                       None  65000000.0  [Adventure, Fantasy, Family]   8844   \n",
       "2  Grumpy Old Men Collection         0.0             [Romance, Comedy]  15602   \n",
       "\n",
       "  original_language                                           overview  \\\n",
       "0                en  Led by Woody, Andy's toys live happily in his ...   \n",
       "1                en  When siblings Judy and Peter discover an encha...   \n",
       "2                en  A family wedding reignites the ancient feud be...   \n",
       "\n",
       "  popularity                               production_companies  \\\n",
       "0  21.946943                          [Pixar Animation Studios]   \n",
       "1  17.015539  [TriStar Pictures, Teitler Film, Interscope Co...   \n",
       "2    11.7129                     [Warner Bros., Lancaster Gate]   \n",
       "\n",
       "         production_countries release_date      revenue  runtime  \\\n",
       "0  [United States of America]   1995-10-30  373554033.0     81.0   \n",
       "1  [United States of America]   1995-12-15  262797249.0    104.0   \n",
       "2  [United States of America]   1995-12-22          0.0    101.0   \n",
       "\n",
       "      spoken_languages    status  \\\n",
       "0            [English]  Released   \n",
       "1  [English, Français]  Released   \n",
       "2            [English]  Released   \n",
       "\n",
       "                                             tagline             title  \\\n",
       "0                                                NaN         Toy Story   \n",
       "1          Roll the dice and unleash the excitement!           Jumanji   \n",
       "2  Still Yelling. Still Fighting. Still Ready for...  Grumpier Old Men   \n",
       "\n",
       "   vote_average  release_year     return  \n",
       "0           7.7          1995  12.451801  \n",
       "1           6.9          1995   4.043035  \n",
       "2           6.5          1995   0.000000  "
      ]
     },
     "execution_count": 21,
     "metadata": {},
     "output_type": "execute_result"
    }
   ],
   "source": [
    "# Ingestamos el| dataset final\n",
    "\n",
    "d.head(3)"
   ]
  },
  {
   "cell_type": "code",
   "execution_count": null,
   "metadata": {},
   "outputs": [],
   "source": [
    "# APLICACION DEL ALGORITMO SUPPORT VECTOR MACHINES"
   ]
  },
  {
   "cell_type": "code",
   "execution_count": 23,
   "metadata": {},
   "outputs": [
    {
     "data": {
      "text/plain": [
       "<AxesSubplot: xlabel='release_year', ylabel='budget'>"
      ]
     },
     "execution_count": 23,
     "metadata": {},
     "output_type": "execute_result"
    },
    {
     "data": {
      "image/png": "[encoded data removed]",
      "text/plain": [
       "<Figure size 640x480 with 1 Axes>"
      ]
     },
     "metadata": {},
     "output_type": "display_data"
    }
   ],
   "source": [
    "# Se muestra la relacion entre los campos budget y release_year\n",
    "\n",
    "d.plot.scatter(y = 'budget', x = 'release_year')"
   ]
  },
  {
   "cell_type": "code",
   "execution_count": 31,
   "metadata": {},
   "outputs": [],
   "source": [
    "# Nos quedamos con las columnas budget y release_year y como target la columna runtime\n",
    "\n",
    "x = d.iloc[:,[1,17]].values\n",
    "y = d.iloc[:,11].values"
   ]
  },
  {
   "cell_type": "code",
   "execution_count": 32,
   "metadata": {},
   "outputs": [],
   "source": [
    "# Separamos los datos de entrenamiento de los datos de prueba\n",
    "\n",
    "from sklearn.model_selection import train_test_split\n",
    "X_Train, X_Test, Y_Train, Y_Test = train_test_split(x, y, test_size=0.25, random_state=0)"
   ]
  },
  {
   "cell_type": "code",
   "execution_count": 33,
   "metadata": {},
   "outputs": [],
   "source": [
    "# Estandarizamos\n",
    "\n",
    "from sklearn.preprocessing import StandardScaler\n",
    "\n",
    "sc_X = StandardScaler()\n",
    "X_Train = sc_X.fit_transform(X_Train)\n",
    "X_Test = sc_X.transform(X_Test)\n"
   ]
  },
  {
   "cell_type": "code",
   "execution_count": 34,
   "metadata": {},
   "outputs": [
    {
     "data": {
      "text/html": [
       "<style>#sk-container-id-1 {color: black;background-color: white;}#sk-container-id-1 pre{padding: 0;}#sk-container-id-1 div.sk-toggleable {background-color: white;}#sk-container-id-1 label.sk-toggleable__label {cursor: pointer;display: block;width: 100%;margin-bottom: 0;padding: 0.3em;box-sizing: border-box;text-align: center;}#sk-container-id-1 label.sk-toggleable__label-arrow:before {content: \"▸\";float: left;margin-right: 0.25em;color: #696969;}#sk-container-id-1 label.sk-toggleable__label-arrow:hover:before {color: black;}#sk-container-id-1 div.sk-estimator:hover label.sk-toggleable__label-arrow:before {color: black;}#sk-container-id-1 div.sk-toggleable__content {max-height: 0;max-width: 0;overflow: hidden;text-align: left;background-color: #f0f8ff;}#sk-container-id-1 div.sk-toggleable__content pre {margin: 0.2em;color: black;border-radius: 0.25em;background-color: #f0f8ff;}#sk-container-id-1 input.sk-toggleable__control:checked~div.sk-toggleable__content {max-height: 200px;max-width: 100%;overflow: auto;}#sk-container-id-1 input.sk-toggleable__control:checked~label.sk-toggleable__label-arrow:before {content: \"▾\";}#sk-container-id-1 div.sk-estimator input.sk-toggleable__control:checked~label.sk-toggleable__label {background-color: #d4ebff;}#sk-container-id-1 div.sk-label input.sk-toggleable__control:checked~label.sk-toggleable__label {background-color: #d4ebff;}#sk-container-id-1 input.sk-hidden--visually {border: 0;clip: rect(1px 1px 1px 1px);clip: rect(1px, 1px, 1px, 1px);height: 1px;margin: -1px;overflow: hidden;padding: 0;position: absolute;width: 1px;}#sk-container-id-1 div.sk-estimator {font-family: monospace;background-color: #f0f8ff;border: 1px dotted black;border-radius: 0.25em;box-sizing: border-box;margin-bottom: 0.5em;}#sk-container-id-1 div.sk-estimator:hover {background-color: #d4ebff;}#sk-container-id-1 div.sk-parallel-item::after {content: \"\";width: 100%;border-bottom: 1px solid gray;flex-grow: 1;}#sk-container-id-1 div.sk-label:hover label.sk-toggleable__label {background-color: #d4ebff;}#sk-container-id-1 div.sk-serial::before {content: \"\";position: absolute;border-left: 1px solid gray;box-sizing: border-box;top: 0;bottom: 0;left: 50%;z-index: 0;}#sk-container-id-1 div.sk-serial {display: flex;flex-direction: column;align-items: center;background-color: white;padding-right: 0.2em;padding-left: 0.2em;position: relative;}#sk-container-id-1 div.sk-item {position: relative;z-index: 1;}#sk-container-id-1 div.sk-parallel {display: flex;align-items: stretch;justify-content: center;background-color: white;position: relative;}#sk-container-id-1 div.sk-item::before, #sk-container-id-1 div.sk-parallel-item::before {content: \"\";position: absolute;border-left: 1px solid gray;box-sizing: border-box;top: 0;bottom: 0;left: 50%;z-index: -1;}#sk-container-id-1 div.sk-parallel-item {display: flex;flex-direction: column;z-index: 1;position: relative;background-color: white;}#sk-container-id-1 div.sk-parallel-item:first-child::after {align-self: flex-end;width: 50%;}#sk-container-id-1 div.sk-parallel-item:last-child::after {align-self: flex-start;width: 50%;}#sk-container-id-1 div.sk-parallel-item:only-child::after {width: 0;}#sk-container-id-1 div.sk-dashed-wrapped {border: 1px dashed gray;margin: 0 0.4em 0.5em 0.4em;box-sizing: border-box;padding-bottom: 0.4em;background-color: white;}#sk-container-id-1 div.sk-label label {font-family: monospace;font-weight: bold;display: inline-block;line-height: 1.2em;}#sk-container-id-1 div.sk-label-container {text-align: center;}#sk-container-id-1 div.sk-container {/* jupyter's `normalize.less` sets `[hidden] { display: none; }` but bootstrap.min.css set `[hidden] { display: none !important; }` so we also need the `!important` here to be able to override the default hidden behavior on the sphinx rendered scikit-learn.org. See: https://github.com/scikit-learn/scikit-learn/issues/21755 */display: inline-block !important;position: relative;}#sk-container-id-1 div.sk-text-repr-fallback {display: none;}</style><div id=\"sk-container-id-1\" class=\"sk-top-container\"><div class=\"sk-text-repr-fallback\"><pre>SVC(kernel=&#x27;linear&#x27;, random_state=0)</pre><b>In a Jupyter environment, please rerun this cell to show the HTML representation or trust the notebook. <br />On GitHub, the HTML representation is unable to render, please try loading this page with nbviewer.org.</b></div><div class=\"sk-container\" hidden><div class=\"sk-item\"><div class=\"sk-estimator sk-toggleable\"><input class=\"sk-toggleable__control sk-hidden--visually\" id=\"sk-estimator-id-1\" type=\"checkbox\" checked><label for=\"sk-estimator-id-1\" class=\"sk-toggleable__label sk-toggleable__label-arrow\">SVC</label><div class=\"sk-toggleable__content\"><pre>SVC(kernel=&#x27;linear&#x27;, random_state=0)</pre></div></div></div></div></div>"
      ],
      "text/plain": [
       "SVC(kernel='linear', random_state=0)"
      ]
     },
     "execution_count": 34,
     "metadata": {},
     "output_type": "execute_result"
    }
   ],
   "source": [
    "# Entrenamos, para ello, utilizamos la clase SVC de la libreria Scikit-learn\n",
    "\n",
    "from sklearn.svm import SVC\n",
    "classifier = SVC(kernel='linear',random_state=0)\n",
    "classifier.fit(X_Train, Y_Train)"
   ]
  },
  {
   "cell_type": "code",
   "execution_count": 35,
   "metadata": {},
   "outputs": [],
   "source": [
    "# Predecimos\n",
    "\n",
    "Y_Pred = classifier.predict(X_Test)"
   ]
  },
  {
   "cell_type": "code",
   "execution_count": 36,
   "metadata": {},
   "outputs": [
    {
     "data": {
      "image/png": "[encoded data removed]",
      "text/plain": [
       "<Figure size 1200x800 with 1 Axes>"
      ]
     },
     "metadata": {},
     "output_type": "display_data"
    }
   ],
   "source": [
    "# Evaluamos\n",
    "# Matriz de confucion\n",
    "\n",
    "from sklearn.metrics import confusion_matrix, classification_report\n",
    "cm = confusion_matrix(Y_Test, Y_Pred)\n",
    "\n",
    "fig, ax = plt.subplots(figsize=(12,8))\n",
    "ax.matshow(cm)\n",
    "plt.title('Matriz de Cnfusion', fontsize=20)\n",
    "plt.ylabel('Etiqueta Verdadera', fontsize=15)\n",
    "plt.xlabel('Etiqueta Predicha', fontsize=15)\n",
    "for (i, j), z in np.ndenumerate(cm):\n",
    "    ax.text(j, i, '{:0.1f}'.format(z), ha='center', va='center')"
   ]
  },
  {
   "cell_type": "code",
   "execution_count": null,
   "metadata": {},
   "outputs": [],
   "source": [
    "# Las etiquetas que corresponden a las categorias que hay el modelo no las predijo, debido a la configuracion \n",
    "# de la matriz o a los datos de las columnas que no guardan relacion"
   ]
  },
  {
   "cell_type": "code",
   "execution_count": 37,
   "metadata": {},
   "outputs": [
    {
     "name": "stdout",
     "output_type": "stream",
     "text": [
      "              precision    recall  f1-score   support\n",
      "\n",
      "         0.0       0.00      0.00      0.00       373\n",
      "         1.0       0.38      0.93      0.54        27\n",
      "         2.0       0.00      0.00      0.00        13\n",
      "         3.0       0.00      0.00      0.00         9\n",
      "         4.0       0.00      0.00      0.00        10\n",
      "         5.0       0.00      0.00      0.00        18\n",
      "         6.0       0.00      0.00      0.00        17\n",
      "         7.0       0.00      0.00      0.00        32\n",
      "         8.0       0.00      0.00      0.00        14\n",
      "         9.0       0.00      0.00      0.00         9\n",
      "        10.0       0.00      0.00      0.00        16\n",
      "        11.0       0.00      0.00      0.00        11\n",
      "        12.0       0.00      0.00      0.00        12\n",
      "        13.0       0.00      0.00      0.00         9\n",
      "        14.0       0.00      0.00      0.00         9\n",
      "        15.0       0.00      0.00      0.00        12\n",
      "        16.0       0.00      0.00      0.00        11\n",
      "        17.0       0.00      0.00      0.00        12\n",
      "        18.0       0.00      0.00      0.00         7\n",
      "        19.0       0.00      0.00      0.00         3\n",
      "        20.0       0.00      0.00      0.00        12\n",
      "        21.0       0.00      0.00      0.00         4\n",
      "        22.0       0.00      0.00      0.00         8\n",
      "        23.0       0.00      0.00      0.00         4\n",
      "        24.0       0.00      0.00      0.00         3\n",
      "        25.0       0.00      0.00      0.00        17\n",
      "        26.0       0.00      0.00      0.00         3\n",
      "        27.0       0.00      0.00      0.00         4\n",
      "        28.0       0.00      0.00      0.00         4\n",
      "        29.0       0.00      0.00      0.00         8\n",
      "        30.0       0.00      0.00      0.00        14\n",
      "        31.0       0.00      0.00      0.00         5\n",
      "        32.0       0.00      0.00      0.00         2\n",
      "        33.0       0.00      0.00      0.00         5\n",
      "        34.0       0.00      0.00      0.00         5\n",
      "        35.0       0.00      0.00      0.00        11\n",
      "        36.0       0.00      0.00      0.00         5\n",
      "        37.0       0.00      0.00      0.00         1\n",
      "        38.0       0.00      0.00      0.00         5\n",
      "        39.0       0.00      0.00      0.00         3\n",
      "        40.0       0.00      0.00      0.00        12\n",
      "        41.0       0.00      0.00      0.00         2\n",
      "        42.0       0.00      0.00      0.00         7\n",
      "        43.0       0.00      0.00      0.00         3\n",
      "        44.0       0.00      0.00      0.00         5\n",
      "        45.0       0.00      0.00      0.00        19\n",
      "        46.0       0.00      0.00      0.00         9\n",
      "        47.0       0.00      0.00      0.00         7\n",
      "        48.0       0.00      0.00      0.00         9\n",
      "        49.0       0.00      0.00      0.00         7\n",
      "        50.0       0.00      0.00      0.00        17\n",
      "        51.0       0.00      0.00      0.00         7\n",
      "        52.0       0.00      0.00      0.00         8\n",
      "        53.0       0.00      0.00      0.00        22\n",
      "        54.0       0.00      0.00      0.00        11\n",
      "        55.0       0.00      0.00      0.00        17\n",
      "        56.0       0.00      0.00      0.00         9\n",
      "        57.0       0.00      0.00      0.00        10\n",
      "        58.0       0.00      0.00      0.00        24\n",
      "        59.0       0.00      0.00      0.00        19\n",
      "        60.0       0.00      0.00      0.00        59\n",
      "        61.0       0.00      0.00      0.00        22\n",
      "        62.0       0.00      0.00      0.00        29\n",
      "        63.0       0.00      0.00      0.00        21\n",
      "        64.0       0.00      0.00      0.00        17\n",
      "        65.0       0.00      0.00      0.00        28\n",
      "        66.0       0.00      0.00      0.00        25\n",
      "        67.0       0.00      0.00      0.00        21\n",
      "        68.0       0.00      0.00      0.00        28\n",
      "        69.0       0.00      0.00      0.00        26\n",
      "        70.0       0.00      0.00      0.00        46\n",
      "        71.0       0.00      0.00      0.00        46\n",
      "        72.0       0.00      0.00      0.00        57\n",
      "        73.0       0.00      0.00      0.00        47\n",
      "        74.0       0.00      0.00      0.00        60\n",
      "        75.0       0.00      0.00      0.00        94\n",
      "        76.0       0.00      0.00      0.00        66\n",
      "        77.0       0.00      0.00      0.00        64\n",
      "        78.0       0.00      0.00      0.00        91\n",
      "        79.0       0.00      0.00      0.00        74\n",
      "        80.0       0.00      0.00      0.00       188\n",
      "        81.0       0.00      0.00      0.00       120\n",
      "        82.0       0.00      0.00      0.00       155\n",
      "        83.0       0.00      0.00      0.00       151\n",
      "        84.0       0.00      0.00      0.00       169\n",
      "        85.0       0.00      0.00      0.00       253\n",
      "        86.0       0.00      0.00      0.00       208\n",
      "        87.0       0.00      0.00      0.00       230\n",
      "        88.0       0.00      0.00      0.00       263\n",
      "        89.0       0.00      0.00      0.00       232\n",
      "        90.0       0.06      0.99      0.11       638\n",
      "        91.0       0.00      0.00      0.00       267\n",
      "        92.0       0.00      0.00      0.00       262\n",
      "        93.0       0.00      0.00      0.00       303\n",
      "        94.0       0.00      0.00      0.00       250\n",
      "        95.0       0.00      0.00      0.00       367\n",
      "        96.0       0.00      0.00      0.00       290\n",
      "        97.0       0.00      0.00      0.00       238\n",
      "        98.0       0.00      0.00      0.00       252\n",
      "        99.0       0.00      0.00      0.00       205\n",
      "       100.0       0.02      0.02      0.02       349\n",
      "       101.0       0.00      0.00      0.00       181\n",
      "       102.0       0.00      0.00      0.00       196\n",
      "       103.0       0.00      0.00      0.00       183\n",
      "       104.0       0.00      0.00      0.00       194\n",
      "       105.0       0.00      0.00      0.00       244\n",
      "       106.0       0.00      0.00      0.00       154\n",
      "       107.0       0.00      0.00      0.00       154\n",
      "       108.0       0.00      0.00      0.00       146\n",
      "       109.0       0.00      0.00      0.00       112\n",
      "       110.0       0.00      0.00      0.00       205\n",
      "       111.0       0.00      0.00      0.00        94\n",
      "       112.0       0.00      0.00      0.00       113\n",
      "       113.0       0.00      0.00      0.00       100\n",
      "       114.0       0.00      0.00      0.00        91\n",
      "       115.0       0.00      0.00      0.00       127\n",
      "       116.0       0.00      0.00      0.00        73\n",
      "       117.0       0.00      0.00      0.00        75\n",
      "       118.0       0.00      0.00      0.00        71\n",
      "       119.0       0.00      0.00      0.00        68\n",
      "       120.0       0.00      0.00      0.00       164\n",
      "       121.0       0.00      0.00      0.00        40\n",
      "       122.0       0.00      0.00      0.00        54\n",
      "       123.0       0.00      0.00      0.00        58\n",
      "       124.0       0.00      0.00      0.00        62\n",
      "       125.0       0.00      0.00      0.00        56\n",
      "       126.0       0.00      0.00      0.00        42\n",
      "       127.0       0.00      0.00      0.00        47\n",
      "       128.0       0.00      0.00      0.00        45\n",
      "       129.0       0.00      0.00      0.00        33\n",
      "       130.0       0.00      0.00      0.00        55\n",
      "       131.0       0.00      0.00      0.00        19\n",
      "       132.0       0.00      0.00      0.00        38\n",
      "       133.0       0.00      0.00      0.00        25\n",
      "       134.0       0.00      0.00      0.00        25\n",
      "       135.0       0.00      0.00      0.00        35\n",
      "       136.0       0.00      0.00      0.00        24\n",
      "       137.0       0.00      0.00      0.00        26\n",
      "       138.0       0.00      0.00      0.00        30\n",
      "       139.0       0.00      0.00      0.00        18\n",
      "       140.0       0.00      0.00      0.00        29\n",
      "       141.0       0.00      0.00      0.00        17\n",
      "       142.0       0.00      0.00      0.00        20\n",
      "       143.0       0.00      0.00      0.00        17\n",
      "       144.0       0.00      0.00      0.00        12\n",
      "       145.0       0.00      0.00      0.00        17\n",
      "       146.0       0.00      0.00      0.00         8\n",
      "       147.0       0.00      0.00      0.00         8\n",
      "       148.0       0.00      0.00      0.00         8\n",
      "       149.0       0.00      0.00      0.00         7\n",
      "       150.0       0.00      0.00      0.00        26\n",
      "       151.0       0.00      0.00      0.00         9\n",
      "       152.0       0.00      0.00      0.00        10\n",
      "       153.0       0.00      0.00      0.00         8\n",
      "       154.0       0.00      0.00      0.00         9\n",
      "       155.0       0.00      0.00      0.00        14\n",
      "       156.0       0.00      0.00      0.00         4\n",
      "       157.0       0.00      0.00      0.00         6\n",
      "       158.0       0.00      0.00      0.00         7\n",
      "       159.0       0.00      0.00      0.00         7\n",
      "       160.0       0.00      0.00      0.00        13\n",
      "       161.0       0.00      0.00      0.00         3\n",
      "       162.0       0.00      0.00      0.00         5\n",
      "       163.0       0.00      0.00      0.00         8\n",
      "       164.0       0.00      0.00      0.00         1\n",
      "       165.0       0.00      0.00      0.00         7\n",
      "       166.0       0.00      0.00      0.00         6\n",
      "       167.0       0.00      0.00      0.00        10\n",
      "       168.0       0.00      0.00      0.00         3\n",
      "       169.0       0.00      0.00      0.00         4\n",
      "       170.0       0.00      0.00      0.00        15\n",
      "       171.0       0.00      0.00      0.00         5\n",
      "       172.0       0.00      0.00      0.00        10\n",
      "       173.0       0.00      0.00      0.00         7\n",
      "       174.0       0.00      0.00      0.00        11\n",
      "       175.0       0.00      0.00      0.00         6\n",
      "       177.0       0.00      0.00      0.00         4\n",
      "       178.0       0.00      0.00      0.00         4\n",
      "       179.0       0.00      0.00      0.00         5\n",
      "       180.0       0.00      0.00      0.00        23\n",
      "       181.0       0.00      0.00      0.00         5\n",
      "       182.0       0.00      0.00      0.00         2\n",
      "       183.0       0.00      0.00      0.00         2\n",
      "       184.0       0.00      0.00      0.00         2\n",
      "       185.0       0.00      0.00      0.00         3\n",
      "       186.0       0.00      0.00      0.00         5\n",
      "       187.0       0.00      0.00      0.00         1\n",
      "       188.0       0.00      0.00      0.00         2\n",
      "       189.0       0.00      0.00      0.00         2\n",
      "       190.0       0.00      0.00      0.00         2\n",
      "       191.0       0.00      0.00      0.00         1\n",
      "       192.0       0.00      0.00      0.00         1\n",
      "       193.0       0.00      0.00      0.00         2\n",
      "       194.0       0.00      0.00      0.00         1\n",
      "       195.0       0.00      0.00      0.00         2\n",
      "       197.0       0.00      0.00      0.00         3\n",
      "       198.0       0.00      0.00      0.00         3\n",
      "       199.0       0.00      0.00      0.00         2\n",
      "       200.0       0.00      0.00      0.00         5\n",
      "       201.0       0.00      0.00      0.00         2\n",
      "       204.0       0.00      0.00      0.00         2\n",
      "       207.0       0.00      0.00      0.00         1\n",
      "       208.0       0.00      0.00      0.00         2\n",
      "       212.0       0.00      0.00      0.00         1\n",
      "       213.0       0.00      0.00      0.00         3\n",
      "       214.0       0.00      0.00      0.00         1\n",
      "       216.0       0.00      0.00      0.00         3\n",
      "       220.0       0.00      0.00      0.00         1\n",
      "       222.0       0.00      0.00      0.00         1\n",
      "       223.0       0.00      0.00      0.00         2\n",
      "       225.0       0.00      0.00      0.00         3\n",
      "       230.0       0.00      0.00      0.00         1\n",
      "       234.0       0.00      0.00      0.00         1\n",
      "       235.0       0.00      0.00      0.00         1\n",
      "       236.0       0.00      0.00      0.00         2\n",
      "       237.0       0.00      0.00      0.00         3\n",
      "       238.0       0.00      0.00      0.00         1\n",
      "       239.0       0.00      0.00      0.00         2\n",
      "       240.0       0.00      0.00      0.00        10\n",
      "       242.0       0.00      0.00      0.00         1\n",
      "       244.0       0.00      0.00      0.00         1\n",
      "       248.0       0.00      0.00      0.00         1\n",
      "       250.0       0.00      0.00      0.00         1\n",
      "       251.0       0.00      0.00      0.00         1\n",
      "       260.0       0.00      0.00      0.00         1\n",
      "       265.0       0.00      0.00      0.00         1\n",
      "       270.0       0.00      0.00      0.00         3\n",
      "       271.0       0.00      0.00      0.00         1\n",
      "       272.0       0.00      0.00      0.00         1\n",
      "       273.0       0.00      0.00      0.00         1\n",
      "       282.0       0.00      0.00      0.00         1\n",
      "       286.0       0.00      0.00      0.00         1\n",
      "       288.0       0.00      0.00      0.00         1\n",
      "       290.0       0.00      0.00      0.00         1\n",
      "       294.0       0.00      0.00      0.00         1\n",
      "       299.0       0.00      0.00      0.00         1\n",
      "       300.0       0.00      0.00      0.00         1\n",
      "       313.0       0.00      0.00      0.00         1\n",
      "       316.0       0.00      0.00      0.00         1\n",
      "       321.0       0.00      0.00      0.00         1\n",
      "       360.0       0.00      0.00      0.00         4\n",
      "       395.0       0.00      0.00      0.00         1\n",
      "       399.0       0.00      0.00      0.00         1\n",
      "       400.0       0.00      0.00      0.00         1\n",
      "       432.0       0.00      0.00      0.00         1\n",
      "       442.0       0.00      0.00      0.00         1\n",
      "       450.0       0.00      0.00      0.00         1\n",
      "       468.0       0.00      0.00      0.00         1\n",
      "       470.0       0.00      0.00      0.00         1\n",
      "       500.0       0.00      0.00      0.00         1\n",
      "       550.0       0.00      0.00      0.00         1\n",
      "       669.0       0.00      0.00      0.00         1\n",
      "       680.0       0.00      0.00      0.00         1\n",
      "       931.0       0.00      0.00      0.00         1\n",
      "      1140.0       0.00      0.00      0.00         1\n",
      "      1256.0       0.00      0.00      0.00         1\n",
      "\n",
      "    accuracy                           0.06     11283\n",
      "   macro avg       0.00      0.01      0.00     11283\n",
      "weighted avg       0.00      0.06      0.01     11283\n",
      "\n"
     ]
    },
    {
     "name": "stderr",
     "output_type": "stream",
     "text": [
      "c:\\Users\\hp\\AppData\\Local\\Programs\\Python\\Python310\\lib\\site-packages\\sklearn\\metrics\\_classification.py:1344: UndefinedMetricWarning: Precision and F-score are ill-defined and being set to 0.0 in labels with no predicted samples. Use `zero_division` parameter to control this behavior.\n",
      "  _warn_prf(average, modifier, msg_start, len(result))\n",
      "c:\\Users\\hp\\AppData\\Local\\Programs\\Python\\Python310\\lib\\site-packages\\sklearn\\metrics\\_classification.py:1344: UndefinedMetricWarning: Precision and F-score are ill-defined and being set to 0.0 in labels with no predicted samples. Use `zero_division` parameter to control this behavior.\n",
      "  _warn_prf(average, modifier, msg_start, len(result))\n",
      "c:\\Users\\hp\\AppData\\Local\\Programs\\Python\\Python310\\lib\\site-packages\\sklearn\\metrics\\_classification.py:1344: UndefinedMetricWarning: Precision and F-score are ill-defined and being set to 0.0 in labels with no predicted samples. Use `zero_division` parameter to control this behavior.\n",
      "  _warn_prf(average, modifier, msg_start, len(result))\n"
     ]
    }
   ],
   "source": [
    "print(classification_report(Y_Test, Y_Pred))"
   ]
  },
  {
   "cell_type": "code",
   "execution_count": null,
   "metadata": {},
   "outputs": [],
   "source": [
    "# En calculo de la presicion no se encontro una linea que los pudiera representar\n",
    "# por eso grafico de set de entrenamiento no se realizo"
   ]
  },
  {
   "cell_type": "code",
   "execution_count": 41,
   "metadata": {},
   "outputs": [],
   "source": [
    "# Set de entrenamiento\n",
    "from matplotlib.colors import ListedColormap\n",
    "\n",
    "X_set, Y_set = X_Train, Y_Train\n",
    "X1, X2 = np.meshgrid(np.arange(start=X_set[:,0].min()-1,stop=X_set[:,0].max()+1, step=0.01),\n",
    "np.arange(start=X_set[:,1].min()-1,stop=X_set[:,1].max()+1, step=0.01))\n",
    "plt.figure(figsize=(14,8))\n",
    "plt.contourf(X1,X2, classifier.predict(np.array([X1.ravel(),X2.ravel()]).T).reshape(X1.shape),alpha = 0.75,\n",
    "             cmap=ListedColormap(('red','green')))\n",
    "plt.xlim(X1.min(),X1.max())\n",
    "plt.ylim(X2.min(),X2.max())\n",
    "for i,j in enumerate(np.unique(Y_set)):\n",
    "    plt.scatter(X_set[Y_set==j,0], X_set[Y_set==j,1], C=[ListedColormap(('red','green'))(i)],label=j)\n",
    "plt.title('Support vector machine(Set de entrenamiento)', fontsize=20)\n",
    "plt.xlabel('Año de lanzamiento', fontsize=20)\n",
    "plt.ylabel('Presupuesto', fontsize=20)\n",
    "plt.legend()\n",
    "plt.show()\n",
    "                     "
   ]
  }
 ],
 "metadata": {
  "kernelspec": {
   "display_name": "Python 3",
   "language": "python",
   "name": "python3"
  },
  "language_info": {
   "codemirror_mode": {
    "name": "ipython",
    "version": 3
   },
   "file_extension": ".py",
   "mimetype": "text/x-python",
   "name": "python",
   "nbconvert_exporter": "python",
   "pygments_lexer": "ipython3",
   "version": "3.10.8"
  },
  "orig_nbformat": 4
 },
 "nbformat": 4,
 "nbformat_minor": 2
}
